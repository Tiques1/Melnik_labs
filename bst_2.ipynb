{
 "cells": [
  {
   "cell_type": "code",
   "execution_count": 107,
   "metadata": {
    "id": "EAlmhsLgmK5x"
   },
   "outputs": [],
   "source": [
    "from random import randint, seed\n",
    "from time import perf_counter"
   ]
  },
  {
   "cell_type": "markdown",
   "metadata": {
    "id": "dLdOrjQ79tGF"
   },
   "source": [
    "# 1 Часть"
   ]
  },
  {
   "cell_type": "markdown",
   "metadata": {
    "id": "6h64XFWlyo9T"
   },
   "source": [
    "## 1.   Случайным образом сгенерировать 25 чисел в диапазоне от 1 до 50. Каждое вновь сгенерированное число использовать в качестве ключа при добавлении в ДДП. Вывести на экран получившееся дерево (любым удобным для прочтения/интерпретации способом)."
   ]
  },
  {
   "cell_type": "code",
   "execution_count": 108,
   "metadata": {
    "id": "mZgfcQdaMOKz"
   },
   "outputs": [],
   "source": [
    "'''\n",
    "Node.insert(key) - добавление ключа\n",
    "Node.find(key) - возвращает объект Node, если есть ключ, None, если нет\n",
    "Node.display() - выводит дерево в консоль\n",
    "Node.delete_tree() - рекурсивное удаление ключей, включая текущий\n",
    "Node.get_min() - возвращает объект Node минимального ключа\n",
    "Node.get_max() - возвращает объект Node максимального ключа\n",
    "Node.find_prev() - возвращает объект Node первого меньшего ключа\n",
    "Node.find_next() - возвращает объект Node первого большего ключа\n",
    "\n",
    "delete_key(node, key) - удаляет все ключи с переданным значением\n",
    "\n",
    "Для использования функций в поддеревьях, используйте Node.find(key)\n",
    "Пример: tree.find(5).get_min(), где tree - корневой Node\n",
    "'''\n",
    "\n",
    "class Node:\n",
    "    \n",
    "    def __init__(self, key):\n",
    "    \n",
    "        self.key = key\n",
    "        self.left = None\n",
    "        self.right = None\n",
    "\n",
    "    def insert(self, key):\n",
    "\n",
    "        if self.key:\n",
    "            if key < self.key:\n",
    "\n",
    "                if self.left is None:\n",
    "                    self.left = Node(key)\n",
    "\n",
    "                else:\n",
    "                    self.left.insert(key)\n",
    "\n",
    "            elif key >= self.key:\n",
    "\n",
    "                if self.right is None:\n",
    "                    self.right = Node(key)\n",
    "\n",
    "                else:\n",
    "                    self.right.insert(key)\n",
    "\n",
    "        else:\n",
    "             self.key = key\n",
    "\n",
    "    def delete_tree(self):\n",
    "        if self.left is not None:\n",
    "            self.left = self.left.delete_tree()\n",
    "        if self.right is not None:\n",
    "            self.right = self.right.delete_tree()\n",
    "        return None\n",
    "                \n",
    "    def find(self, key):\n",
    "        if key < self.key and self.left is not None:\n",
    "            return self.left.find(key)\n",
    "        if key > self.key and self.right is not None:\n",
    "            return self.right.find(key)\n",
    "        if key == self.key:\n",
    "            return self\n",
    "        else:\n",
    "            return None\n",
    "\n",
    "    def find_next(self):\n",
    "        if self.right is not None:\n",
    "            return self.right.get_min()\n",
    "        else:\n",
    "            return None\n",
    "        \n",
    "    def find_prev(self):\n",
    "        if self.left is not None:\n",
    "            return self.left.get_max()\n",
    "        else:\n",
    "            return None\n",
    "\n",
    "    def get_min(self):\n",
    "        if self.left is None:\n",
    "            return self\n",
    "        return self.left.get_min()\n",
    "\n",
    "    def get_max(self):\n",
    "        if self.right is None:\n",
    "            return self\n",
    "        return self.right.get_max()\n",
    "           \n",
    "    def display(self):\n",
    "        lines, *_ = self._display_aux()\n",
    "        for line in lines:\n",
    "            print(line)\n",
    "    \n",
    "    def _display_aux(self):\n",
    "        \"\"\"Returns list of strings, width, height, and horizontal coordinate of the root.\"\"\"\n",
    "        # No child.\n",
    "        if self.right is None and self.left is None:\n",
    "            line = '%s' % self.key\n",
    "            width = len(line)\n",
    "            height = 1\n",
    "            middle = width // 2\n",
    "            return [line], width, height, middle\n",
    "\n",
    "        # Only left child.\n",
    "        if self.right is None:\n",
    "            lines, n, p, x = self.left._display_aux()\n",
    "            s = '%s' % self.key\n",
    "            u = len(s)\n",
    "            first_line = (x + 1) * ' ' + (n - x - 1) * '_' + s\n",
    "            second_line = x * ' ' + '/' + (n - x - 1 + u) * ' '\n",
    "            shifted_lines = [line + u * ' ' for line in lines]\n",
    "            return [first_line, second_line] + shifted_lines, n + u, p + 2, n + u // 2\n",
    "\n",
    "        # Only right child.\n",
    "        if self.left is None:\n",
    "            lines, n, p, x = self.right._display_aux()\n",
    "            s = '%s' % self.key\n",
    "            u = len(s)\n",
    "            first_line = s + x * '_' + (n - x) * ' '\n",
    "            second_line = (u + x) * ' ' + '\\\\' + (n - x - 1) * ' '\n",
    "            shifted_lines = [u * ' ' + line for line in lines]\n",
    "            return [first_line, second_line] + shifted_lines, n + u, p + 2, u // 2\n",
    "\n",
    "        # Two children.\n",
    "        left, n, p, x = self.left._display_aux()\n",
    "        right, m, q, y = self.right._display_aux()\n",
    "        s = '%s' % self.key\n",
    "        u = len(s)\n",
    "        first_line = (x + 1) * ' ' + (n - x - 1) * '_' + s + y * '_' + (m - y) * ' '\n",
    "        second_line = x * ' ' + '/' + (n - x - 1 + u + y) * ' ' + '\\\\' + (m - y - 1) * ' '\n",
    "        if p < q:\n",
    "            left += [n * ' '] * (q - p)\n",
    "        elif q < p:\n",
    "            right += [m * ' '] * (p - q)\n",
    "        zipped_lines = zip(left, right)\n",
    "        lines = [first_line, second_line] + [a + u * ' ' + b for a, b in zipped_lines]\n",
    "        return lines, n + m + u, max(p, q) + 2, n + u // 2\n",
    "    \n",
    "def delete(node, key):\n",
    "    if node is not None:\n",
    "        if key < node.key:\n",
    "            node.left = delete(node.left, key)\n",
    "        elif key > node.key:\n",
    "            node.right = delete(node.right, key)\n",
    "        else:\n",
    "            if node.left is None and node.right is None:\n",
    "                return None\n",
    "            elif node.left is not None and node.right is None:\n",
    "                node = node.left\n",
    "            elif node.left is None and node.right is not None:\n",
    "                node = node.right\n",
    "            else:\n",
    "                max_left = node.find_prev()\n",
    "                node.key = max_left.key\n",
    "                node.left = delete(node.left, max_left.key)\n",
    "    return node\n",
    "\n",
    "def delete_key(node, key):\n",
    "    if not node.find(key):\n",
    "        print('Нет такого ключа')\n",
    "        return\n",
    "    while node.find(key):\n",
    "        delete(node, key)"
   ]
  },
  {
   "cell_type": "code",
   "execution_count": 109,
   "metadata": {
    "colab": {
     "base_uri": "https://localhost:8080/"
    },
    "id": "1emmq2_A_ooz",
    "outputId": "1c3eaa24-a148-45ac-a3d5-2304a17000ab"
   },
   "outputs": [
    {
     "name": "stdout",
     "output_type": "stream",
     "text": [
      "             ________________29_______________ \n",
      "            /                                 \\\n",
      "  _________17_______                       __49\n",
      " /                  \\                     /    \n",
      " 7______       ____23___                 42_   \n",
      "/       \\     /         \\               /   \\  \n",
      "2  ____15_   18___     27_           __40  44  \n",
      "  /       \\       \\   /   \\         /          \n",
      "  8_     16      19  26  27_     __37_         \n",
      "    \\           /           \\   /     \\        \n",
      "   10_         18          28  29_   39        \n",
      "      \\                           \\            \n",
      "     11                          34            \n"
     ]
    }
   ],
   "source": [
    "array = [randint(1, 50) for _ in range(25)]\n",
    "tree = Node(array[0])\n",
    "for i in array[1:]:\n",
    "    tree.insert(i)\n",
    "tree.display()"
   ]
  },
  {
   "cell_type": "code",
   "execution_count": 110,
   "metadata": {},
   "outputs": [
    {
     "name": "stdout",
     "output_type": "stream",
     "text": [
      "             ______________29_______________ \n",
      "            /                               \\\n",
      "  _________17_____                       __49\n",
      " /                \\                     /    \n",
      " 7______       __19___                 42_   \n",
      "/       \\     /       \\               /   \\  \n",
      "2  ____15_   18_     27_           __40  44  \n",
      "  /       \\     \\   /   \\         /          \n",
      "  8_     16    18  26  27_     __37_         \n",
      "    \\                     \\   /     \\        \n",
      "   10_                   28  29_   39        \n",
      "      \\                         \\            \n",
      "     11                        34            \n"
     ]
    }
   ],
   "source": [
    "delete_key(tree, 23)\n",
    "tree.display()"
   ]
  },
  {
   "cell_type": "markdown",
   "metadata": {
    "id": "FIvKlNhRzqd9"
   },
   "source": [
    "## 2.\tИз получившегося дерева получить отсортированный массив ключей размера 25."
   ]
  },
  {
   "cell_type": "code",
   "execution_count": 111,
   "metadata": {
    "colab": {
     "base_uri": "https://localhost:8080/"
    },
    "id": "wZQLJmrJ_0up",
    "outputId": "d2f91a3f-28be-4ea9-f8dd-0ece265c4016"
   },
   "outputs": [
    {
     "name": "stdout",
     "output_type": "stream",
     "text": [
      "[2, 7, 8, 10, 11, 15, 16, 17, 18, 18, 19, 26, 27, 27, 28, 29, 29, 34, 37, 39, 40, 42, 44, 49]\n"
     ]
    }
   ],
   "source": [
    "def bst_sort(tree, keys): # обход в глубину, LNR - in-order traversal\n",
    "    if tree is not None:\n",
    "        bst_sort(tree.left, keys)\n",
    "        keys.append(tree.key)\n",
    "        bst_sort(tree.right, keys)\n",
    "\n",
    "keys = []\n",
    "bst_sort(tree, keys)\n",
    "print(keys)"
   ]
  },
  {
   "cell_type": "markdown",
   "metadata": {
    "id": "6W6BiqP22ZhE"
   },
   "source": [
    "## 3.\tПовторить пункты 1-2 для 1.000/5.000/10.000 чисел в диапазоне:\n",
    "\n"
   ]
  },
  {
   "cell_type": "code",
   "execution_count": 112,
   "metadata": {
    "id": "mik6DDjXABkQ"
   },
   "outputs": [],
   "source": [
    "def create_sort(limit):\n",
    "    time = []\n",
    "    for i in [1000, 5000, 10000]:\n",
    "        start_time = perf_counter()\n",
    "        \n",
    "        array = [randint(1, limit) for _ in range(i)]\n",
    "        tree = Node(array[0])\n",
    "        for j in array[1:]:\n",
    "            tree.insert(j)\n",
    "        \n",
    "        keys=[]\n",
    "        bst_sort(tree, keys)\n",
    "        time.append(perf_counter() - start_time)\n",
    "        print(f'Заполнение и вывод в массив бинарного дерева {i} элементов, выполнилось за: {perf_counter() - start_time} сек')\n",
    "    return time"
   ]
  },
  {
   "cell_type": "markdown",
   "metadata": {
    "id": "yEdEyw76BLyL"
   },
   "source": [
    "## a.\tот 1 до 10.000\n"
   ]
  },
  {
   "cell_type": "code",
   "execution_count": 113,
   "metadata": {
    "colab": {
     "base_uri": "https://localhost:8080/"
    },
    "id": "xM94vcif2Yga",
    "outputId": "48efd21b-0b1a-40f7-dffd-d528cc7f1778"
   },
   "outputs": [
    {
     "name": "stdout",
     "output_type": "stream",
     "text": [
      "Заполнение и вывод в массив бинарного дерева 1000 элементов, выполнилось за: 0.007572399917989969 сек\n",
      "Заполнение и вывод в массив бинарного дерева 5000 элементов, выполнилось за: 0.030553000047802925 сек\n",
      "Заполнение и вывод в массив бинарного дерева 10000 элементов, выполнилось за: 0.0672123001422733 сек\n"
     ]
    }
   ],
   "source": [
    "ten_thousand = create_sort(10000)"
   ]
  },
  {
   "cell_type": "markdown",
   "metadata": {
    "id": "jPMEW4YW3J6D"
   },
   "source": [
    "## b.\tот 1 до 500"
   ]
  },
  {
   "cell_type": "code",
   "execution_count": 114,
   "metadata": {
    "colab": {
     "base_uri": "https://localhost:8080/"
    },
    "id": "cBes0ZNc3MP4",
    "outputId": "2d0e1640-d980-4936-ae18-ca49d1fcd158"
   },
   "outputs": [
    {
     "name": "stdout",
     "output_type": "stream",
     "text": [
      "Заполнение и вывод в массив бинарного дерева 1000 элементов, выполнилось за: 0.006046399939805269 сек\n",
      "Заполнение и вывод в массив бинарного дерева 5000 элементов, выполнилось за: 0.03267659991979599 сек\n",
      "Заполнение и вывод в массив бинарного дерева 10000 элементов, выполнилось за: 0.12734510004520416 сек\n"
     ]
    }
   ],
   "source": [
    "five_hundred = create_sort(500)"
   ]
  },
  {
   "cell_type": "markdown",
   "metadata": {
    "id": "W_nVi56R5Oks"
   },
   "source": [
    "## 4.\tСгенерировать массивы чисел размера 1.000/5.000/10.000 (сначала в диапазоне от 1 до 10.000, потом в диапазоне от 1 до 500). Произвести сортировку массивов с использованием любого алгоритма сортировки (используйте библиотечные функции python), при это не забудьте произвести замеры времени работы на каждом размере массива."
   ]
  },
  {
   "cell_type": "code",
   "execution_count": 115,
   "metadata": {
    "colab": {
     "base_uri": "https://localhost:8080/"
    },
    "id": "bUMRvqXD4vq1",
    "outputId": "8c67bfa1-242c-43be-f075-f58c864a8125"
   },
   "outputs": [
    {
     "name": "stdout",
     "output_type": "stream",
     "text": [
      "Генерация и сортировка массива из 1000 элементов от 1 до 10000, выполнилось за: 0.0014269999228417873 сек\n",
      "Генерация и сортировка массива из 5000 элементов от 1 до 10000, выполнилось за: 0.006847199983894825 сек\n",
      "Генерация и сортировка массива из 10000 элементов от 1 до 10000, выполнилось за: 0.012619600165635347 сек\n",
      "Генерация и сортировка массива из 1000 элементов от 1 до 500, выполнилось за: 0.0011328000109642744 сек\n",
      "Генерация и сортировка массива из 5000 элементов от 1 до 500, выполнилось за: 0.005579400109127164 сек\n",
      "Генерация и сортировка массива из 10000 элементов от 1 до 500, выполнилось за: 0.012291699880734086 сек\n"
     ]
    }
   ],
   "source": [
    "def builtin_sort(limit):\n",
    "    time = []\n",
    "    for i in [1000, 5000, 10000]:\n",
    "        start_time = perf_counter()\n",
    "        \n",
    "        array = [randint(1, limit) for _ in range(i)]\n",
    "        \n",
    "        sorted(array)\n",
    "        time.append(perf_counter() - start_time)\n",
    "        print(f'Генерация и сортировка массива из {i} элементов от {1} до {limit}, выполнилось за: {perf_counter() - start_time} сек')\n",
    "    return time\n",
    "\n",
    "sort_ten_thousand = builtin_sort(10000)\n",
    "sort_five_hundred = builtin_sort(500)"
   ]
  },
  {
   "cell_type": "markdown",
   "metadata": {},
   "source": [
    "## 5.\tВсю полученную информацию внесите в таблицу и сделайте выводы."
   ]
  },
  {
   "cell_type": "code",
   "execution_count": 116,
   "metadata": {},
   "outputs": [
    {
     "name": "stdout",
     "output_type": "stream",
     "text": [
      "                           1000      5000     10000\n",
      "До 500   Наше решение  0.006042  0.032672  0.127341\n",
      "         sorted()      0.001127  0.005577  0.012287\n",
      "До 10000 Наше решение  0.007568  0.030549  0.067208\n",
      "         sorted()      0.001423  0.006838  0.012612 \n",
      "Вывод: timsort рулит\n"
     ]
    }
   ],
   "source": [
    "import pandas as pd\n",
    "\n",
    "data = [five_hundred, sort_five_hundred, ten_thousand, sort_ten_thousand]\n",
    "df = pd.DataFrame(columns=['1000','5000','10000'], index=[['До 500','','До 10000',''], ['Наше решение','sorted()',\n",
    "                                                                                      'Наше решение', 'sorted()']], data=data)\n",
    "df\n",
    "print(df, '\\nВывод: timsort рулит')"
   ]
  },
  {
   "cell_type": "markdown",
   "metadata": {
    "id": "rMu3H7z49-kJ"
   },
   "source": [
    "# 2 Часть"
   ]
  },
  {
   "cell_type": "markdown",
   "metadata": {
    "id": "bItIQXvn-Hh3"
   },
   "source": [
    "## 1.\tНапишите функцию, определяющую высоту дерева. Продемонстируйте работу этой функции."
   ]
  },
  {
   "cell_type": "code",
   "execution_count": 117,
   "metadata": {
    "colab": {
     "base_uri": "https://localhost:8080/"
    },
    "id": "9etvwSKL-Cq3",
    "outputId": "0ea4148b-fc4f-4099-fbf2-5abb57838c63"
   },
   "outputs": [
    {
     "name": "stdout",
     "output_type": "stream",
     "text": [
      "Высота ДДП: 9\n",
      "              ______48_______                   \n",
      "             /               \\                  \n",
      "  __________35_           __71_______________   \n",
      " /             \\         /                   \\  \n",
      " 6_______     36_       54_                 95_ \n",
      "/        \\       \\     /   \\               /   \\\n",
      "4       28_     39_   52  55    __________94  95\n",
      "       /   \\       \\           /                \n",
      "    __23  30      40          75_________       \n",
      "   /                                     \\      \n",
      "  15_                             ______90      \n",
      "     \\                           /              \n",
      "    18                          82_             \n",
      "                                   \\            \n",
      "                                  83_           \n",
      "                                     \\          \n",
      "                                    87_         \n",
      "                                       \\        \n",
      "                                      89        \n"
     ]
    }
   ],
   "source": [
    "def node_height(node):\n",
    "    if not node:\n",
    "        return 0\n",
    "    return max(node_height(node.left), node_height(node.right)) + 1\n",
    "\n",
    "array = [randint(1, 100) for _ in range(25)]\n",
    "tree = Node(array[0])\n",
    "for _ in array[1:]:\n",
    "    tree.insert(_)\n",
    "print(f'Высота ДДП: {node_height(tree) - 1}')\n",
    "tree.display()"
   ]
  },
  {
   "cell_type": "markdown",
   "metadata": {
    "id": "ZnJCyoBPCRs2"
   },
   "source": [
    "## 2.\tСгенерируйте случайным образом ДДП, состоящее из 50 узлов, содержащих ключи в диапазоне от 1 до 25. Далее пользователь вводит любое число X. В построенной дереве производится удаление всех вершин, у которых ключ равен X, и вывод получившегося дерева, либо пользователю сообщается, что вершины с данным ключом X в дереве не существует."
   ]
  },
  {
   "cell_type": "code",
   "execution_count": 118,
   "metadata": {
    "colab": {
     "base_uri": "https://localhost:8080/"
    },
    "id": "zhTdRC2zaVdl",
    "outputId": "3dca4507-cecd-4383-e3d1-0670c952fcdd"
   },
   "outputs": [
    {
     "name": "stdout",
     "output_type": "stream",
     "text": [
      " _________________________________15_                                                   \n",
      "/                                    \\                                                  \n",
      "1______________                     15_________________________________                 \n",
      "               \\                                                       \\                \n",
      "        ______11_______________                           ____________22_               \n",
      "       /                       \\                         /               \\              \n",
      "      _7__        ____________14_       ________________18_______       22_______       \n",
      "     /    \\      /               \\     /                         \\               \\      \n",
      "  ___3   _8     11___           14    15_____________       ____20_         ____24_     \n",
      " /    \\ /  \\         \\                               \\     /       \\       /       \\    \n",
      " 2    4 7  8        12_                   __________17_   18_     21_     23_     24_   \n",
      "  \\      \\  \\      /   \\                 /             \\     \\       \\       \\       \\  \n",
      "  2      7  8     11  13_               15_________   17    18_     21      23_     24_ \n",
      "   \\         \\           \\                         \\           \\               \\       \\\n",
      "   2         9          13_                 ______16          18              23      24\n",
      "    \\                      \\               /                                            \n",
      "    2                     13_             15_                                           \n",
      "                             \\               \\                                          \n",
      "                            13              15_                                         \n",
      "                                               \\                                        \n",
      "                                              15_                                       \n",
      "                                                 \\                                      \n",
      "                                                15                                      \n"
     ]
    }
   ],
   "source": [
    "array = [randint(1, 25) for i in range(50)]\n",
    "tree = Node(array[0])\n",
    "for i in array:\n",
    "    tree.insert(i)\n",
    "tree.display()"
   ]
  },
  {
   "cell_type": "code",
   "execution_count": 119,
   "metadata": {},
   "outputs": [
    {
     "name": "stdout",
     "output_type": "stream",
     "text": [
      "0\n",
      "Нет такого ключа\n",
      " _________________________________15_                                                   \n",
      "/                                    \\                                                  \n",
      "1______________                     15_________________________________                 \n",
      "               \\                                                       \\                \n",
      "        ______11_______________                           ____________22_               \n",
      "       /                       \\                         /               \\              \n",
      "      _7__        ____________14_       ________________18_______       22_______       \n",
      "     /    \\      /               \\     /                         \\               \\      \n",
      "  ___3   _8     11___           14    15_____________       ____20_         ____24_     \n",
      " /    \\ /  \\         \\                               \\     /       \\       /       \\    \n",
      " 2    4 7  8        12_                   __________17_   18_     21_     23_     24_   \n",
      "  \\      \\  \\      /   \\                 /             \\     \\       \\       \\       \\  \n",
      "  2      7  8     11  13_               15_________   17    18_     21      23_     24_ \n",
      "   \\         \\           \\                         \\           \\               \\       \\\n",
      "   2         9          13_                 ______16          18              23      24\n",
      "    \\                      \\               /                                            \n",
      "    2                     13_             15_                                           \n",
      "                             \\               \\                                          \n",
      "                            13              15_                                         \n",
      "                                               \\                                        \n",
      "                                              15_                                       \n",
      "                                                 \\                                      \n",
      "                                                15                                      \n"
     ]
    }
   ],
   "source": [
    "x = int(input())\n",
    "delete_key(tree, x)\n",
    "tree.display()"
   ]
  },
  {
   "cell_type": "code",
   "execution_count": null,
   "metadata": {},
   "outputs": [],
   "source": []
  }
 ],
 "metadata": {
  "colab": {
   "collapsed_sections": [],
   "provenance": []
  },
  "kernelspec": {
   "display_name": "Python 3 (ipykernel)",
   "language": "python",
   "name": "python3"
  },
  "language_info": {
   "codemirror_mode": {
    "name": "ipython",
    "version": 3
   },
   "file_extension": ".py",
   "mimetype": "text/x-python",
   "name": "python",
   "nbconvert_exporter": "python",
   "pygments_lexer": "ipython3",
   "version": "3.10.9"
  }
 },
 "nbformat": 4,
 "nbformat_minor": 1
}
