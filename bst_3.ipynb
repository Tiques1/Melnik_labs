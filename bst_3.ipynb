{
 "cells": [
  {
   "cell_type": "code",
   "execution_count": 1,
   "metadata": {
    "id": "EAlmhsLgmK5x"
   },
   "outputs": [],
   "source": [
    "from random import randint, seed\n",
    "from time import perf_counter"
   ]
  },
  {
   "cell_type": "markdown",
   "metadata": {
    "id": "dLdOrjQ79tGF"
   },
   "source": [
    "# 1 Часть"
   ]
  },
  {
   "cell_type": "markdown",
   "metadata": {
    "id": "6h64XFWlyo9T"
   },
   "source": [
    "## 1.   Случайным образом сгенерировать 25 чисел в диапазоне от 1 до 50. Каждое вновь сгенерированное число использовать в качестве ключа при добавлении в ДДП. Вывести на экран получившееся дерево (любым удобным для прочтения/интерпретации способом)."
   ]
  },
  {
   "cell_type": "code",
   "execution_count": 10,
   "metadata": {
    "id": "mZgfcQdaMOKz"
   },
   "outputs": [],
   "source": [
    "'''\n",
    "Node.insert(key) - добавление ключа\n",
    "Node.find(key) - возвращает объект Node, если есть ключ, None, если нет\n",
    "Node.display() - выводит дерево в консоль\n",
    "Node.delete_tree() - рекурсивное удаление ключей, включая текущий\n",
    "Node.get_min() - возвращает объект Node минимального ключа\n",
    "Node.get_max() - возвращает объект Node максимального ключа\n",
    "Node.find_prev() - возвращает объект Node первого меньшего ключа\n",
    "Node.find_next() - возвращает объект Node первого большего ключа\n",
    "\n",
    "delete_key(node, key) - удаляет все ключи с переданным значением\n",
    "\n",
    "Для использования функций в поддеревьях, используйте Node.find(key)\n",
    "Пример: tree.find(5).get_min(), где tree - корневой Node\n",
    "'''\n",
    "\n",
    "class Node:\n",
    "    \n",
    "    def __init__(self, key):\n",
    "    \n",
    "        self.key = key\n",
    "        self.left = None\n",
    "        self.right = None\n",
    "\n",
    "    def insert(self, key):\n",
    "\n",
    "        if self.key:\n",
    "            if key < self.key:\n",
    "\n",
    "                if self.left is None:\n",
    "                    self.left = Node(key)\n",
    "\n",
    "                else:\n",
    "                    self.left.insert(key)\n",
    "\n",
    "            elif key >= self.key:\n",
    "\n",
    "                if self.right is None:\n",
    "                    self.right = Node(key)\n",
    "\n",
    "                else:\n",
    "                    self.right.insert(key)\n",
    "\n",
    "        else:\n",
    "             self.key = key\n",
    "\n",
    "    def delete_tree(self):\n",
    "        if self.left is not None:\n",
    "            self.left = self.left.delete_tree()\n",
    "        if self.right is not None:\n",
    "            self.right = self.right.delete_tree()\n",
    "        return None\n",
    "                \n",
    "    def find(self, key):\n",
    "        if key < self.key and self.left is not None:\n",
    "            return self.left.find(key)\n",
    "        if key > self.key and self.right is not None:\n",
    "            return self.right.find(key)\n",
    "        if key == self.key:\n",
    "            return self\n",
    "        else:\n",
    "            return None\n",
    "\n",
    "    def find_next(self):\n",
    "        if self.right is not None:\n",
    "            return self.right.get_min()\n",
    "        else:\n",
    "            return None\n",
    "        \n",
    "    def find_prev(self):\n",
    "        if self.left is not None:\n",
    "            return self.left.get_max()\n",
    "        else:\n",
    "            return None\n",
    "\n",
    "    def get_min(self):\n",
    "        if self.left is None:\n",
    "            return self\n",
    "        return self.left.get_min()\n",
    "\n",
    "    def get_max(self):\n",
    "        if self.right is None:\n",
    "            return self\n",
    "        return self.right.get_max()\n",
    "           \n",
    "    def display(self):\n",
    "        lines, *_ = self._display_aux()\n",
    "        for line in lines:\n",
    "            print(line)\n",
    "    \n",
    "    def _display_aux(self):\n",
    "        \"\"\"Returns list of strings, width, height, and horizontal coordinate of the root.\"\"\"\n",
    "        # No child.\n",
    "        if self.right is None and self.left is None:\n",
    "            line = '%s' % self.key\n",
    "            width = len(line)\n",
    "            height = 1\n",
    "            middle = width // 2\n",
    "            return [line], width, height, middle\n",
    "\n",
    "        # Only left child.\n",
    "        if self.right is None:\n",
    "            lines, n, p, x = self.left._display_aux()\n",
    "            s = '%s' % self.key\n",
    "            u = len(s)\n",
    "            first_line = (x + 1) * ' ' + (n - x - 1) * '_' + s\n",
    "            second_line = x * ' ' + '/' + (n - x - 1 + u) * ' '\n",
    "            shifted_lines = [line + u * ' ' for line in lines]\n",
    "            return [first_line, second_line] + shifted_lines, n + u, p + 2, n + u // 2\n",
    "\n",
    "        # Only right child.\n",
    "        if self.left is None:\n",
    "            lines, n, p, x = self.right._display_aux()\n",
    "            s = '%s' % self.key\n",
    "            u = len(s)\n",
    "            first_line = s + x * '_' + (n - x) * ' '\n",
    "            second_line = (u + x) * ' ' + '\\\\' + (n - x - 1) * ' '\n",
    "            shifted_lines = [u * ' ' + line for line in lines]\n",
    "            return [first_line, second_line] + shifted_lines, n + u, p + 2, u // 2\n",
    "\n",
    "        # Two children.\n",
    "        left, n, p, x = self.left._display_aux()\n",
    "        right, m, q, y = self.right._display_aux()\n",
    "        s = '%s' % self.key\n",
    "        u = len(s)\n",
    "        first_line = (x + 1) * ' ' + (n - x - 1) * '_' + s + y * '_' + (m - y) * ' '\n",
    "        second_line = x * ' ' + '/' + (n - x - 1 + u + y) * ' ' + '\\\\' + (m - y - 1) * ' '\n",
    "        if p < q:\n",
    "            left += [n * ' '] * (q - p)\n",
    "        elif q < p:\n",
    "            right += [m * ' '] * (p - q)\n",
    "        zipped_lines = zip(left, right)\n",
    "        lines = [first_line, second_line] + [a + u * ' ' + b for a, b in zipped_lines]\n",
    "        return lines, n + m + u, max(p, q) + 2, n + u // 2\n",
    "    \n",
    "def delete(node, key):\n",
    "    if node is not None:\n",
    "        if key < node.key:\n",
    "            node.left = delete(node.left, key)\n",
    "        elif key > node.key:\n",
    "            node.right = delete(node.right, key)\n",
    "        else:\n",
    "            if node.left is None and node.right is None:\n",
    "                return None\n",
    "            elif node.left is not None and node.right is None:\n",
    "                node.key = node.left.key\n",
    "                node.left = delete(node.left, node.left.key)\n",
    "            elif node.left is None and node.right is not None:\n",
    "                node.key = node.right.key\n",
    "                node.right = delete(node.right, node.right.key)\n",
    "            else:\n",
    "                min_right = node.find_next()\n",
    "                node.key = min_right.key\n",
    "                node.right = delete(node.right, min_right.key)\n",
    "    return node\n",
    "\n",
    "def delete_key(node, key):\n",
    "    if not node.find(key):\n",
    "        print('Нет такого ключа')\n",
    "        return\n",
    "    while node.find(key):\n",
    "        delete(node, key)"
   ]
  },
  {
   "cell_type": "code",
   "execution_count": 20,
   "metadata": {
    "colab": {
     "base_uri": "https://localhost:8080/"
    },
    "id": "1emmq2_A_ooz",
    "outputId": "1c3eaa24-a148-45ac-a3d5-2304a17000ab"
   },
   "outputs": [
    {
     "name": "stdout",
     "output_type": "stream",
     "text": [
      "  35_ \n",
      " /   \\\n",
      "17  39\n"
     ]
    }
   ],
   "source": [
    "array = [randint(1, 50) for _ in range(3)]\n",
    "tree = Node(array[0])\n",
    "for i in array[1:]:\n",
    "    tree.insert(i)\n",
    "tree.display()"
   ]
  },
  {
   "cell_type": "code",
   "execution_count": 21,
   "metadata": {},
   "outputs": [
    {
     "name": "stdout",
     "output_type": "stream",
     "text": [
      "  39\n",
      " /  \n",
      "17  \n"
     ]
    }
   ],
   "source": [
    "delete_key(tree, 35)\n",
    "tree.display()"
   ]
  },
  {
   "cell_type": "markdown",
   "metadata": {
    "id": "FIvKlNhRzqd9"
   },
   "source": [
    "## 2.\tИз получившегося дерева получить отсортированный массив ключей размера 25."
   ]
  },
  {
   "cell_type": "code",
   "execution_count": 6,
   "metadata": {
    "colab": {
     "base_uri": "https://localhost:8080/"
    },
    "id": "wZQLJmrJ_0up",
    "outputId": "d2f91a3f-28be-4ea9-f8dd-0ece265c4016"
   },
   "outputs": [
    {
     "name": "stdout",
     "output_type": "stream",
     "text": [
      "[1, 3, 3, 5, 8, 12, 14, 16, 19, 21, 21, 30, 35, 37, 37, 43, 44, 45, 45, 46, 46, 48]\n"
     ]
    }
   ],
   "source": [
    "def bst_sort(tree, keys): # обход в глубину, LNR - in-order traversal\n",
    "    if tree is not None:\n",
    "        bst_sort(tree.left, keys)\n",
    "        keys.append(tree.key)\n",
    "        bst_sort(tree.right, keys)\n",
    "\n",
    "keys = []\n",
    "bst_sort(tree, keys)\n",
    "print(keys)"
   ]
  },
  {
   "cell_type": "markdown",
   "metadata": {
    "id": "6W6BiqP22ZhE"
   },
   "source": [
    "## 3.\tПовторить пункты 1-2 для 1.000/5.000/10.000 чисел в диапазоне:\n",
    "\n"
   ]
  },
  {
   "cell_type": "code",
   "execution_count": 7,
   "metadata": {
    "id": "mik6DDjXABkQ"
   },
   "outputs": [],
   "source": [
    "def create_sort(limit):\n",
    "    time = []\n",
    "    for i in [1000, 5000, 10000]:\n",
    "        start_time = perf_counter()\n",
    "        \n",
    "        array = [randint(1, limit) for _ in range(i)]\n",
    "        tree = Node(array[0])\n",
    "        for j in array[1:]:\n",
    "            tree.insert(j)\n",
    "        \n",
    "        keys=[]\n",
    "        bst_sort(tree, keys)\n",
    "        time.append(perf_counter() - start_time)\n",
    "        print(f'Заполнение и вывод в массив бинарного дерева {i} элементов, выполнилось за: {perf_counter() - start_time} сек')\n",
    "    return time"
   ]
  },
  {
   "cell_type": "markdown",
   "metadata": {
    "id": "yEdEyw76BLyL"
   },
   "source": [
    "## a.\tот 1 до 10.000\n"
   ]
  },
  {
   "cell_type": "code",
   "execution_count": 8,
   "metadata": {
    "colab": {
     "base_uri": "https://localhost:8080/"
    },
    "id": "xM94vcif2Yga",
    "outputId": "48efd21b-0b1a-40f7-dffd-d528cc7f1778"
   },
   "outputs": [
    {
     "name": "stdout",
     "output_type": "stream",
     "text": [
      "Заполнение и вывод в массив бинарного дерева 1000 элементов, выполнилось за: 0.006253600120544434 сек\n",
      "Заполнение и вывод в массив бинарного дерева 5000 элементов, выполнилось за: 0.03527390002273023 сек\n",
      "Заполнение и вывод в массив бинарного дерева 10000 элементов, выполнилось за: 0.12871199985966086 сек\n"
     ]
    }
   ],
   "source": [
    "ten_thousand = create_sort(10000)"
   ]
  },
  {
   "cell_type": "markdown",
   "metadata": {
    "id": "jPMEW4YW3J6D"
   },
   "source": [
    "## b.\tот 1 до 500"
   ]
  },
  {
   "cell_type": "code",
   "execution_count": 9,
   "metadata": {
    "colab": {
     "base_uri": "https://localhost:8080/"
    },
    "id": "cBes0ZNc3MP4",
    "outputId": "2d0e1640-d980-4936-ae18-ca49d1fcd158"
   },
   "outputs": [
    {
     "name": "stdout",
     "output_type": "stream",
     "text": [
      "Заполнение и вывод в массив бинарного дерева 1000 элементов, выполнилось за: 0.006808700039982796 сек\n",
      "Заполнение и вывод в массив бинарного дерева 5000 элементов, выполнилось за: 0.03640000009909272 сек\n",
      "Заполнение и вывод в массив бинарного дерева 10000 элементов, выполнилось за: 0.10126879997551441 сек\n"
     ]
    }
   ],
   "source": [
    "five_hundred = create_sort(500)"
   ]
  },
  {
   "cell_type": "markdown",
   "metadata": {
    "id": "W_nVi56R5Oks"
   },
   "source": [
    "## 4.\tСгенерировать массивы чисел размера 1.000/5.000/10.000 (сначала в диапазоне от 1 до 10.000, потом в диапазоне от 1 до 500). Произвести сортировку массивов с использованием любого алгоритма сортировки (используйте библиотечные функции python), при это не забудьте произвести замеры времени работы на каждом размере массива."
   ]
  },
  {
   "cell_type": "code",
   "execution_count": 10,
   "metadata": {
    "colab": {
     "base_uri": "https://localhost:8080/"
    },
    "id": "bUMRvqXD4vq1",
    "outputId": "8c67bfa1-242c-43be-f075-f58c864a8125"
   },
   "outputs": [
    {
     "name": "stdout",
     "output_type": "stream",
     "text": [
      "Генерация и сортировка массива из 1000 элементов от 1 до 10000, выполнилось за: 0.002154699992388487 сек\n",
      "Генерация и сортировка массива из 5000 элементов от 1 до 10000, выполнилось за: 0.005688300123438239 сек\n",
      "Генерация и сортировка массива из 10000 элементов от 1 до 10000, выполнилось за: 0.013344499981030822 сек\n",
      "Генерация и сортировка массива из 1000 элементов от 1 до 500, выполнилось за: 0.0011965001467615366 сек\n",
      "Генерация и сортировка массива из 5000 элементов от 1 до 500, выполнилось за: 0.005473099881783128 сек\n",
      "Генерация и сортировка массива из 10000 элементов от 1 до 500, выполнилось за: 0.011186999967321754 сек\n"
     ]
    }
   ],
   "source": [
    "def builtin_sort(limit):\n",
    "    time = []\n",
    "    for i in [1000, 5000, 10000]:\n",
    "        start_time = perf_counter()\n",
    "        \n",
    "        array = [randint(1, limit) for _ in range(i)]\n",
    "        \n",
    "        sorted(array)\n",
    "        time.append(perf_counter() - start_time)\n",
    "        print(f'Генерация и сортировка массива из {i} элементов от {1} до {limit}, выполнилось за: {perf_counter() - start_time} сек')\n",
    "    return time\n",
    "\n",
    "sort_ten_thousand = builtin_sort(10000)\n",
    "sort_five_hundred = builtin_sort(500)"
   ]
  },
  {
   "cell_type": "markdown",
   "metadata": {},
   "source": [
    "## 5.\tВсю полученную информацию внесите в таблицу и сделайте выводы."
   ]
  },
  {
   "cell_type": "code",
   "execution_count": 11,
   "metadata": {},
   "outputs": [
    {
     "name": "stdout",
     "output_type": "stream",
     "text": [
      "                           1000      5000     10000\n",
      "До 500   Наше решение  0.006802  0.036395  0.101265\n",
      "         sorted()      0.001191  0.005470  0.011182\n",
      "До 10000 Наше решение  0.006246  0.035267  0.128699\n",
      "         sorted()      0.002149  0.005684  0.013330 \n",
      "Вывод: timsort рулит\n"
     ]
    }
   ],
   "source": [
    "import pandas as pd\n",
    "\n",
    "data = [five_hundred, sort_five_hundred, ten_thousand, sort_ten_thousand]\n",
    "df = pd.DataFrame(columns=['1000','5000','10000'], index=[['До 500','','До 10000',''], ['Наше решение','sorted()',\n",
    "                                                                                      'Наше решение', 'sorted()']], data=data)\n",
    "df\n",
    "print(df, '\\nВывод: timsort рулит')"
   ]
  },
  {
   "cell_type": "markdown",
   "metadata": {
    "id": "rMu3H7z49-kJ"
   },
   "source": [
    "# 2 Часть"
   ]
  },
  {
   "cell_type": "markdown",
   "metadata": {
    "id": "bItIQXvn-Hh3"
   },
   "source": [
    "## 1.\tНапишите функцию, определяющую высоту дерева. Продемонстируйте работу этой функции."
   ]
  },
  {
   "cell_type": "code",
   "execution_count": 12,
   "metadata": {
    "colab": {
     "base_uri": "https://localhost:8080/"
    },
    "id": "9etvwSKL-Cq3",
    "outputId": "0ea4148b-fc4f-4099-fbf2-5abb57838c63"
   },
   "outputs": [
    {
     "name": "stdout",
     "output_type": "stream",
     "text": [
      "Высота ДДП: 8\n",
      "        ____29___                             \n",
      "       /         \\                            \n",
      "   ___13_       35_____________               \n",
      "  /      \\     /               \\              \n",
      " _8__   13_   33        ______49_____________ \n",
      "/    \\     \\           /                     \\\n",
      "1   10    21        __39_                 __99\n",
      " \\ /               /     \\               /    \n",
      " 5 8              37_   45_             83_   \n",
      "                     \\     \\           /   \\  \n",
      "                    38    45_     ____80  95  \n",
      "                             \\   /            \n",
      "                            47  68___         \n",
      "                                     \\        \n",
      "                                    78        \n",
      "                                   /          \n",
      "                                  73          \n"
     ]
    }
   ],
   "source": [
    "def node_height(node):\n",
    "    if not node:\n",
    "        return 0\n",
    "    return max(node_height(node.left), node_height(node.right)) + 1\n",
    "\n",
    "array = [randint(1, 100) for _ in range(25)]\n",
    "tree = Node(array[0])\n",
    "for _ in array[1:]:\n",
    "    tree.insert(_)\n",
    "print(f'Высота ДДП: {node_height(tree) - 1}')\n",
    "tree.display()"
   ]
  },
  {
   "cell_type": "markdown",
   "metadata": {
    "id": "ZnJCyoBPCRs2"
   },
   "source": [
    "## 2.\tСгенерируйте случайным образом ДДП, состоящее из 50 узлов, содержащих ключи в диапазоне от 1 до 25. Далее пользователь вводит любое число X. В построенной дереве производится удаление всех вершин, у которых ключ равен X, и вывод получившегося дерева, либо пользователю сообщается, что вершины с данным ключом X в дереве не существует."
   ]
  },
  {
   "cell_type": "code",
   "execution_count": 118,
   "metadata": {
    "colab": {
     "base_uri": "https://localhost:8080/"
    },
    "id": "zhTdRC2zaVdl",
    "outputId": "3dca4507-cecd-4383-e3d1-0670c952fcdd"
   },
   "outputs": [
    {
     "name": "stdout",
     "output_type": "stream",
     "text": [
      " _________________________________15_                                                   \n",
      "/                                    \\                                                  \n",
      "1______________                     15_________________________________                 \n",
      "               \\                                                       \\                \n",
      "        ______11_______________                           ____________22_               \n",
      "       /                       \\                         /               \\              \n",
      "      _7__        ____________14_       ________________18_______       22_______       \n",
      "     /    \\      /               \\     /                         \\               \\      \n",
      "  ___3   _8     11___           14    15_____________       ____20_         ____24_     \n",
      " /    \\ /  \\         \\                               \\     /       \\       /       \\    \n",
      " 2    4 7  8        12_                   __________17_   18_     21_     23_     24_   \n",
      "  \\      \\  \\      /   \\                 /             \\     \\       \\       \\       \\  \n",
      "  2      7  8     11  13_               15_________   17    18_     21      23_     24_ \n",
      "   \\         \\           \\                         \\           \\               \\       \\\n",
      "   2         9          13_                 ______16          18              23      24\n",
      "    \\                      \\               /                                            \n",
      "    2                     13_             15_                                           \n",
      "                             \\               \\                                          \n",
      "                            13              15_                                         \n",
      "                                               \\                                        \n",
      "                                              15_                                       \n",
      "                                                 \\                                      \n",
      "                                                15                                      \n"
     ]
    }
   ],
   "source": [
    "array = [randint(1, 25) for i in range(50)]\n",
    "tree = Node(array[0])\n",
    "for i in array:\n",
    "    tree.insert(i)\n",
    "tree.display()"
   ]
  },
  {
   "cell_type": "code",
   "execution_count": 119,
   "metadata": {},
   "outputs": [
    {
     "name": "stdout",
     "output_type": "stream",
     "text": [
      "0\n",
      "Нет такого ключа\n",
      " _________________________________15_                                                   \n",
      "/                                    \\                                                  \n",
      "1______________                     15_________________________________                 \n",
      "               \\                                                       \\                \n",
      "        ______11_______________                           ____________22_               \n",
      "       /                       \\                         /               \\              \n",
      "      _7__        ____________14_       ________________18_______       22_______       \n",
      "     /    \\      /               \\     /                         \\               \\      \n",
      "  ___3   _8     11___           14    15_____________       ____20_         ____24_     \n",
      " /    \\ /  \\         \\                               \\     /       \\       /       \\    \n",
      " 2    4 7  8        12_                   __________17_   18_     21_     23_     24_   \n",
      "  \\      \\  \\      /   \\                 /             \\     \\       \\       \\       \\  \n",
      "  2      7  8     11  13_               15_________   17    18_     21      23_     24_ \n",
      "   \\         \\           \\                         \\           \\               \\       \\\n",
      "   2         9          13_                 ______16          18              23      24\n",
      "    \\                      \\               /                                            \n",
      "    2                     13_             15_                                           \n",
      "                             \\               \\                                          \n",
      "                            13              15_                                         \n",
      "                                               \\                                        \n",
      "                                              15_                                       \n",
      "                                                 \\                                      \n",
      "                                                15                                      \n"
     ]
    }
   ],
   "source": [
    "x = int(input())\n",
    "delete_key(tree, x)\n",
    "tree.display()"
   ]
  },
  {
   "cell_type": "code",
   "execution_count": null,
   "metadata": {},
   "outputs": [],
   "source": []
  }
 ],
 "metadata": {
  "colab": {
   "collapsed_sections": [],
   "provenance": []
  },
  "kernelspec": {
   "display_name": "Python 3 (ipykernel)",
   "language": "python",
   "name": "python3"
  },
  "language_info": {
   "codemirror_mode": {
    "name": "ipython",
    "version": 3
   },
   "file_extension": ".py",
   "mimetype": "text/x-python",
   "name": "python",
   "nbconvert_exporter": "python",
   "pygments_lexer": "ipython3",
   "version": "3.10.9"
  }
 },
 "nbformat": 4,
 "nbformat_minor": 1
}
