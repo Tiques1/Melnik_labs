{
 "cells": [
  {
   "cell_type": "code",
   "execution_count": 3,
   "id": "14b9018f",
   "metadata": {},
   "outputs": [],
   "source": [
    "def bubble_sort(n_array):\n",
    "    for i in range(len(n_array)):\n",
    "        sorted = True\n",
    "        for j in range(len(n_array)-1-i):\n",
    "            if n_array[j] > n_array[j+1]:\n",
    "                c = n_array[j]\n",
    "                n_array[j] = n_array[j+1]\n",
    "                n_array[j+1] = c\n",
    "                sorted = False\n",
    "        if sorted == True:\n",
    "            break\n",
    "    return n_array"
   ]
  },
  {
   "cell_type": "code",
   "execution_count": 4,
   "id": "2e84c797",
   "metadata": {},
   "outputs": [],
   "source": [
    "def merges(array):\n",
    "            new_array = list(array)\n",
    "            for i in range(len(new_array)):\n",
    "                new_array[i] = min(array)\n",
    "                array.remove(min(array))\n",
    "            return new_array\n",
    "\n",
    "def merge_sort(n_array):\n",
    "    if len(n_array) <= 1:\n",
    "        return n_array\n",
    "    return merges(merge_sort(n_array[0:int(len(n_array)/2)]) + merge_sort(n_array[int(len(n_array)/2):]))"
   ]
  },
  {
   "cell_type": "code",
   "execution_count": 5,
   "id": "89b831d9",
   "metadata": {},
   "outputs": [],
   "source": [
    "def unic_elem(n_array):\n",
    "    unic_elems = {}\n",
    "    for i in n_array:\n",
    "        if i in unic_elems:\n",
    "            unic_elems[i] += 1\n",
    "        else:\n",
    "            unic_elems[i] = 1\n",
    "    return unic_elems"
   ]
  },
  {
   "cell_type": "code",
   "execution_count": 55,
   "id": "c9c7a9dc",
   "metadata": {},
   "outputs": [
    {
     "name": "stdout",
     "output_type": "stream",
     "text": [
      "Какой-то текст, просто текст!!!\n",
      "Вторая строка\n"
     ]
    }
   ],
   "source": [
    "import io\n",
    "\n",
    "def read(file):\n",
    "    text = io.open(file, mode='r', encoding='utf-8').readlines()\n",
    "    text = ''.join(text)\n",
    "    return text\n",
    "\n",
    "text = read('сортировки')\n",
    "print(text)"
   ]
  },
  {
   "cell_type": "code",
   "execution_count": 56,
   "id": "5be1f120",
   "metadata": {},
   "outputs": [
    {
     "name": "stdout",
     "output_type": "stream",
     "text": [
      "['hello', \"i'm\", 'programmer', 'programmer', 'world']\n",
      "['hello', \"i'm\", 'programmer', 'programmer', 'world']\n",
      "{'hello': 1, \"i'm\": 1, 'programmer': 2, 'world': 1}\n"
     ]
    }
   ],
   "source": [
    "import re\n",
    "\n",
    "def prepare(text):\n",
    "    for s in \"\"\".,:;\"\\|/?!><~`@#№$%^&*()[]{}_=+0123456789\"\"\":\n",
    "        text = text.replace(s, ' ')\n",
    "        \n",
    "    text = text.replace('- ', ' ')\n",
    "    text = text.replace(' -', ' ')\n",
    "    text = text.replace(\"' \", ' ')\n",
    "    text = text.replace(\" '\", ' ')\n",
    "    text = re.sub('\\s', ' ', text)\n",
    "    text = re.sub(' +', ' ', text)\n",
    "    text = re.sub('\\A | \\Z', '', text)\n",
    "    text = text.lower().split(' ')\n",
    "    \n",
    "    return text\n",
    "\n",
    "text = prepare(\" Hello world, i'm Programmer,programmer!\")\n",
    "\n",
    "print(merge_sort(text))\n",
    "print(bubble_sort(text))\n",
    "print(unic_elem(text))"
   ]
  },
  {
   "cell_type": "code",
   "execution_count": 57,
   "id": "1b063353",
   "metadata": {},
   "outputs": [],
   "source": [
    "import random as rd\n",
    "import time\n",
    "\n",
    "length = [100, 500, 1000, 2000, 5000]\n",
    "bs_time = []\n",
    "ms_time = []\n",
    "\n",
    "for n in length:\n",
    "    # generation text\n",
    "    text_orig = ' '.join([''.join([chr(rd.randint(ord('A'), ord('Z'))) for i in range(rd.randint(1,10))]) for j in range(n)])\n",
    "    \n",
    "    # time for bubble sort\n",
    "    time_start_bs = time.perf_counter_ns()\n",
    "    text = prepare(text_orig)\n",
    "    text = bubble_sort(text)\n",
    "    time_end_bs = time.perf_counter_ns()\n",
    "    \n",
    "    # time for merge sort\n",
    "    time_start_ms = time.perf_counter_ns()\n",
    "    text = prepare(text_orig)\n",
    "    text = merge_sort(text)\n",
    "    time_end_ms = time.perf_counter_ns()\n",
    "    \n",
    "    bs_time.append(time_end_bs - time_start_bs)\n",
    "    ms_time.append(time_end_ms - time_start_ms)"
   ]
  },
  {
   "cell_type": "code",
   "execution_count": 58,
   "id": "2a6ffdeb",
   "metadata": {},
   "outputs": [
    {
     "name": "stdout",
     "output_type": "stream",
     "text": [
      "   Length      Bubble       Merge\n",
      "0     100     1298500     1093500\n",
      "1     500    26135100    15880600\n",
      "2    1000   108938500    53920000\n",
      "3    2000   447552300   212520200\n",
      "4    5000  2855063800  1232167300\n"
     ]
    },
    {
     "data": {
      "image/png": "[encoded data removed]",
      "text/plain": [
       "<Figure size 640x480 with 1 Axes>"
      ]
     },
     "metadata": {},
     "output_type": "display_data"
    }
   ],
   "source": [
    "import pandas as pd\n",
    "import matplotlib.pyplot as plt\n",
    "\n",
    "data = {'Length': length, 'Bubble': bs_time, 'Merge': ms_time}\n",
    "df = pd.DataFrame(data)\n",
    "\n",
    "print(df)\n",
    "\n",
    "plt.plot(length, bs_time, label='Bubble sort: O(n^2)')\n",
    "plt.plot(length, ms_time, label='Merge sort: O(nlogn)')\n",
    "plt.legend()\n",
    "plt.show()"
   ]
  }
 ],
 "metadata": {
  "kernelspec": {
   "display_name": "Python 3 (ipykernel)",
   "language": "python",
   "name": "python3"
  },
  "language_info": {
   "codemirror_mode": {
    "name": "ipython",
    "version": 3
   },
   "file_extension": ".py",
   "mimetype": "text/x-python",
   "name": "python",
   "nbconvert_exporter": "python",
   "pygments_lexer": "ipython3",
   "version": "3.10.9"
  }
 },
 "nbformat": 4,
 "nbformat_minor": 5
}
